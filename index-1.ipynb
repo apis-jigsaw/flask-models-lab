{
 "cells": [
  {
   "cell_type": "markdown",
   "metadata": {},
   "source": [
    "# Flask with Models"
   ]
  },
  {
   "cell_type": "markdown",
   "metadata": {},
   "source": [
    "### Introduction"
   ]
  },
  {
   "cell_type": "markdown",
   "metadata": {},
   "source": [
    "In this lesson, we'll work to connect Flask to our models.  We'll start by still making our sql calls directly from our routes, and then we'll move onto using more of our orm functions to make our calls.  Let's get started."
   ]
  },
  {
   "cell_type": "markdown",
   "metadata": {},
   "source": [
    "### Getting Setup"
   ]
  },
  {
   "cell_type": "markdown",
   "metadata": {},
   "source": [
    "In this lab, we'll be connecting some of our foursquare models to a flask api.  Because we'll have tests, and also want to see how our application is working locally on our computer we'll need to make sure that we have two databases.\n",
    "\n",
    "* `foursquare_development`\n",
    "* `foursquare_test`\n",
    "\n",
    "> If you already have a foursquare_test database it's likely best to destroy the database and the recreate it.\n",
    "\n",
    "Then create the tables defined in the migrations file.  Do so for both databases."
   ]
  },
  {
   "cell_type": "markdown",
   "metadata": {},
   "source": [
    "Next, we should initialize our development database with some data.  We already have some data define in the `seed.py` file, which will load our development database with some initial data.  But this file relies on us having fully defined our models.  \n",
    "\n",
    "And that means linking up both the tables and the columns to the database.  Get that linked up.  And then we can run the seed.py file.  \n",
    "\n",
    "You can check that you did this properly, by logging into psql, connecting to the development database, and viewing the records in the database."
   ]
  },
  {
   "cell_type": "markdown",
   "metadata": {},
   "source": [
    "### Building our Application"
   ]
  },
  {
   "cell_type": "markdown",
   "metadata": {},
   "source": [
    "Ok, now it's time to get started with defining some routes for our application.  Start with the venues routes. \n",
    "\n",
    "* Venue routes\n",
    "    * In defining the venue routes, we now want to make the appropriate call to our database, initialize venue instances using the `build_from_records` or `build_from_record` function, and then return each venue as a json dictionary.\n",
    "    * Do not use any other functions declared in our orm file.\n",
    "    \n",
    "* Categories routes\n",
    "\n",
    "    * Ok, now in the categories routes, we again want to define the index and show routes.  However, this time, we can use any functions we wish from our orm file.  Try not to use the `build_from_record` or `build_from_records` functions directly this time, but instead lean on other functions.\n",
    "    * Just like before, we should initialize an instance for each record, and return a json dictionary for each instance."
   ]
  },
  {
   "cell_type": "markdown",
   "metadata": {},
   "source": [
    "### Summary"
   ]
  },
  {
   "cell_type": "markdown",
   "metadata": {},
   "source": [
    "Ok, in this lesson we saw how we can begin to use our ORM functions to more easily build out our API.  Going forward we will continue to lean on these functions, to write clear and concise code to accomplish our tasks."
   ]
  },
  {
   "cell_type": "markdown",
   "metadata": {},
   "source": [
    "### Resources\n",
    "\n",
    "[Flask Config](https://flask.palletsprojects.com/en/1.1.x/config/)"
   ]
  }
 ],
 "metadata": {
  "kernelspec": {
   "display_name": "Python 3",
   "language": "python",
   "name": "python3"
  },
  "language_info": {
   "codemirror_mode": {
    "name": "ipython",
    "version": 3
   },
   "file_extension": ".py",
   "mimetype": "text/x-python",
   "name": "python",
   "nbconvert_exporter": "python",
   "pygments_lexer": "ipython3",
   "version": "3.8.3"
  }
 },
 "nbformat": 4,
 "nbformat_minor": 4
}
